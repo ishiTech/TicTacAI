{
 "cells": [
  {
   "cell_type": "markdown",
   "id": "789b96c4-0bda-4232-909e-cfee467e1e5d",
   "metadata": {},
   "source": [
    "### Board Utilities"
   ]
  },
  {
   "cell_type": "code",
   "execution_count": 2,
   "id": "26e247ae-2a96-4b07-874e-dd0df2891c4d",
   "metadata": {},
   "outputs": [],
   "source": [
    "import random\n",
    "import math\n",
    "\n",
    "# --- Board Functions ---\n",
    "def create_board():\n",
    "    return [' ' for _ in range(9)]\n",
    "\n",
    "def print_board(board):\n",
    "    print()\n",
    "    for i in range(3):\n",
    "        row = []\n",
    "        for j in range(3):\n",
    "            idx = i*3 + j\n",
    "            row.append(board[idx] if board[idx] != ' ' else str(idx))\n",
    "        print(' ' + ' | '.join(row))\n",
    "        if i < 2:\n",
    "            print(\"-----------\")\n",
    "    print()\n",
    "\n",
    "def available_moves(board):\n",
    "    return [i for i, spot in enumerate(board) if spot == ' ']\n",
    "\n",
    "def make_move(board, position, letter):\n",
    "    board[position] = letter\n",
    "\n",
    "def winner(board, letter):\n",
    "    win_patterns = [\n",
    "        [0, 1, 2], [3, 4, 5], [6, 7, 8],\n",
    "        [0, 3, 6], [1, 4, 7], [2, 5, 8],\n",
    "        [0, 4, 8], [2, 4, 6]\n",
    "    ]\n",
    "    return any(all(board[i] == letter for i in pattern) for pattern in win_patterns)\n",
    "\n",
    "def is_full(board):\n",
    "    return ' ' not in board"
   ]
  },
  {
   "cell_type": "markdown",
   "id": "5bb59693-8156-4294-8588-0e5daff0a0db",
   "metadata": {},
   "source": [
    "### AI Algorithms"
   ]
  },
  {
   "cell_type": "markdown",
   "id": "6a4a4351-cfd9-4557-900a-a81bc49c4b2f",
   "metadata": {},
   "source": [
    "#### 1. Random Move"
   ]
  },
  {
   "cell_type": "code",
   "execution_count": 5,
   "id": "a768e29b-6399-4a8c-b46b-9a30d2315805",
   "metadata": {},
   "outputs": [],
   "source": [
    "def ai_random(board):\n",
    "    return random.choice(available_moves(board))"
   ]
  },
  {
   "cell_type": "markdown",
   "id": "007b9ac7-edf4-48f2-b639-7b402b84045b",
   "metadata": {},
   "source": [
    "#### 2. Heuristic (center > corners > others)"
   ]
  },
  {
   "cell_type": "code",
   "execution_count": 7,
   "id": "ffa2fbc1-3c59-4be3-ae27-165f9358139e",
   "metadata": {},
   "outputs": [],
   "source": [
    "def ai_heuristic(board):\n",
    "    if 4 in available_moves(board):\n",
    "        return 4\n",
    "    corners = [i for i in [0, 2, 6, 8] if i in available_moves(board)]\n",
    "    if corners:\n",
    "        return random.choice(corners)\n",
    "    return ai_random(board)"
   ]
  },
  {
   "cell_type": "markdown",
   "id": "a346b27a-16c9-4377-91d2-831c57ffb084",
   "metadata": {},
   "source": [
    "#### 3. Minimax Algorithm"
   ]
  },
  {
   "cell_type": "code",
   "execution_count": 9,
   "id": "c98db503-953b-433b-bab4-d210d68d80b6",
   "metadata": {},
   "outputs": [],
   "source": [
    "def minimax(board, depth, is_maximizing, ai_letter, human_letter):\n",
    "    if winner(board, ai_letter):\n",
    "        return 10 - depth\n",
    "    elif winner(board, human_letter):\n",
    "        return depth - 10\n",
    "    elif is_full(board):\n",
    "        return 0\n",
    "\n",
    "    if is_maximizing:\n",
    "        best_score = -math.inf\n",
    "        for move in available_moves(board):\n",
    "            board[move] = ai_letter\n",
    "            score = minimax(board, depth + 1, False, ai_letter, human_letter)\n",
    "            board[move] = ' '\n",
    "            best_score = max(score, best_score)\n",
    "        return best_score\n",
    "    else:\n",
    "        best_score = math.inf\n",
    "        for move in available_moves(board):\n",
    "            board[move] = human_letter\n",
    "            score = minimax(board, depth + 1, True, ai_letter, human_letter)\n",
    "            board[move] = ' '\n",
    "            best_score = min(score, best_score)\n",
    "        return best_score\n",
    "\n",
    "def ai_minimax(board, ai_letter, human_letter):\n",
    "    best_score = -math.inf\n",
    "    best_move = None\n",
    "    for move in available_moves(board):\n",
    "        board[move] = ai_letter\n",
    "        score = minimax(board, 0, False, ai_letter, human_letter)\n",
    "        board[move] = ' '\n",
    "        if score > best_score:\n",
    "            best_score = score\n",
    "            best_move = move\n",
    "    return best_move"
   ]
  },
  {
   "cell_type": "markdown",
   "id": "aeda1cb7-8152-459d-9a7b-038b68afe6b9",
   "metadata": {},
   "source": [
    "#### 4. Monte-Carlo Tree Search(MCTS) Algorithm"
   ]
  },
  {
   "cell_type": "code",
   "execution_count": 11,
   "id": "09c225de-9b08-4b41-a7c6-22e03b95ecbd",
   "metadata": {},
   "outputs": [],
   "source": [
    "def simulate_random_game(board, current_letter):\n",
    "    letters = ['X', 'O']\n",
    "    while True:\n",
    "        if winner(board, 'X'):\n",
    "            return 'X'\n",
    "        if winner(board, 'O'):\n",
    "            return 'O'\n",
    "        if is_full(board):\n",
    "            return None\n",
    "        move = random.choice(available_moves(board))\n",
    "        board[move] = current_letter\n",
    "        current_letter = letters[1] if current_letter == letters[0] else letters[0]\n",
    "\n",
    "def ai_mcts(board, ai_letter, simulations=100):\n",
    "    moves = available_moves(board)\n",
    "    move_scores = {move: 0 for move in moves}\n",
    "\n",
    "    for move in moves:\n",
    "        for _ in range(simulations):\n",
    "            temp_board = board[:]\n",
    "            temp_board[move] = ai_letter\n",
    "            winner_letter = simulate_random_game(\n",
    "                temp_board,\n",
    "                'O' if ai_letter == 'X' else 'X'\n",
    "            )\n",
    "            if winner_letter == ai_letter:\n",
    "                move_scores[move] += 1\n",
    "            elif winner_letter is None:\n",
    "                move_scores[move] += 0.5\n",
    "\n",
    "    best_move = max(moves, key=lambda m: move_scores[m])\n",
    "    return best_move"
   ]
  },
  {
   "cell_type": "markdown",
   "id": "8959613e-e88f-4e45-92a4-422ed365588a",
   "metadata": {},
   "source": [
    "### AI Selection Helper"
   ]
  },
  {
   "cell_type": "code",
   "execution_count": 13,
   "id": "9a816179-15f8-4aed-a14d-6681be7de9dc",
   "metadata": {},
   "outputs": [],
   "source": [
    "def choose_ai():\n",
    "    print(\"Choose AI technique:\")\n",
    "    print(\"1. Random Move\")\n",
    "    print(\"2. Heuristic\")\n",
    "    print(\"3. Minimax\")\n",
    "    print(\"4. Monte Carlo Tree Search\")\n",
    "    return int(input(\"Enter choice (1-4): \"))\n",
    "\n",
    "def get_ai_move(ai_choice, board, letter, opponent):\n",
    "    if ai_choice == 1:\n",
    "        return ai_random(board)\n",
    "    elif ai_choice == 2:\n",
    "        return ai_heuristic(board)\n",
    "    elif ai_choice == 3:\n",
    "        return ai_minimax(board, letter, opponent)\n",
    "    elif ai_choice == 4:\n",
    "        return ai_mcts(board, letter)"
   ]
  },
  {
   "cell_type": "markdown",
   "id": "b8de33b7-6e4d-467d-902f-1181591f7962",
   "metadata": {},
   "source": [
    "### Game Modes"
   ]
  },
  {
   "cell_type": "code",
   "execution_count": 15,
   "id": "2b86c05b-545e-4ef5-be3c-183fc54f765b",
   "metadata": {},
   "outputs": [],
   "source": [
    "def pvp_mode():\n",
    "    board = create_board()\n",
    "    current_letter = 'X'\n",
    "    while True:\n",
    "        print_board(board)\n",
    "        move = int(input(f\"Player {current_letter}, enter move (0-8): \"))\n",
    "        if move not in available_moves(board):\n",
    "            print(\"Invalid move! Try again.\")\n",
    "            continue\n",
    "        make_move(board, move, current_letter)\n",
    "\n",
    "        if winner(board, current_letter):\n",
    "            print_board(board)\n",
    "            print(f\"Player {current_letter} wins!\")\n",
    "            break\n",
    "        if is_full(board):\n",
    "            print_board(board)\n",
    "            print(\"It's a draw!\")\n",
    "            break\n",
    "\n",
    "        current_letter = 'O' if current_letter == 'X' else 'X'\n",
    "\n",
    "def pvai_mode():\n",
    "    board = create_board()\n",
    "    human_letter = input(\"Choose your letter (X/O): \").upper()\n",
    "    ai_letter = 'O' if human_letter == 'X' else 'X'\n",
    "    ai_choice = choose_ai()\n",
    "    current_letter = 'X'\n",
    "\n",
    "    while True:\n",
    "        print_board(board)\n",
    "        if current_letter == human_letter:\n",
    "            move = int(input(f\"Player {current_letter}, enter move (0-8): \"))\n",
    "        else:\n",
    "            print(f\"AI ({current_letter}) is thinking...\")\n",
    "            move = get_ai_move(ai_choice, board, ai_letter, human_letter)\n",
    "\n",
    "        if move not in available_moves(board):\n",
    "            print(\"Invalid move! Try again.\")\n",
    "            continue\n",
    "        make_move(board, move, current_letter)\n",
    "\n",
    "        if winner(board, current_letter):\n",
    "            print_board(board)\n",
    "            print(f\"{current_letter} wins!\")\n",
    "            break\n",
    "        if is_full(board):\n",
    "            print_board(board)\n",
    "            print(\"It's a draw!\")\n",
    "            break\n",
    "\n",
    "        current_letter = 'O' if current_letter == 'X' else 'X'\n",
    "\n",
    "def aivai_mode():\n",
    "    board = create_board()\n",
    "    print(\"Select AI for X:\")\n",
    "    ai_x_choice = choose_ai()\n",
    "    print(\"Select AI for O:\")\n",
    "    ai_o_choice = choose_ai()\n",
    "    current_letter = 'X'\n",
    "\n",
    "    while True:\n",
    "        print_board(board)\n",
    "        if current_letter == 'X':\n",
    "            move = get_ai_move(ai_x_choice, board, 'X', 'O')\n",
    "        else:\n",
    "            move = get_ai_move(ai_o_choice, board, 'O', 'X')\n",
    "\n",
    "        make_move(board, move, current_letter)\n",
    "\n",
    "        if winner(board, current_letter):\n",
    "            print_board(board)\n",
    "            print(f\"AI ({current_letter}) wins!\")\n",
    "            break\n",
    "        if is_full(board):\n",
    "            print_board(board)\n",
    "            print(\"It's a draw!\")\n",
    "            break\n",
    "\n",
    "        current_letter = 'O' if current_letter == 'X' else 'X'"
   ]
  },
  {
   "cell_type": "markdown",
   "id": "a611e7d0-7bc5-419e-b696-0671702c3234",
   "metadata": {},
   "source": [
    "### Main Runner"
   ]
  },
  {
   "cell_type": "code",
   "execution_count": 17,
   "id": "272d821f-ac1c-4bf9-8c46-60e5583b015d",
   "metadata": {},
   "outputs": [
    {
     "name": "stdout",
     "output_type": "stream",
     "text": [
      "Select mode:\n",
      "1. Player vs Player\n",
      "2. Player vs AI\n",
      "3. AI vs AI\n"
     ]
    },
    {
     "name": "stdin",
     "output_type": "stream",
     "text": [
      "Enter mode:  3\n"
     ]
    },
    {
     "name": "stdout",
     "output_type": "stream",
     "text": [
      "Select AI for X:\n",
      "Choose AI technique:\n",
      "1. Random Move\n",
      "2. Heuristic\n",
      "3. Minimax\n",
      "4. Monte Carlo Tree Search\n"
     ]
    },
    {
     "name": "stdin",
     "output_type": "stream",
     "text": [
      "Enter choice (1-4):  2\n"
     ]
    },
    {
     "name": "stdout",
     "output_type": "stream",
     "text": [
      "Select AI for O:\n",
      "Choose AI technique:\n",
      "1. Random Move\n",
      "2. Heuristic\n",
      "3. Minimax\n",
      "4. Monte Carlo Tree Search\n"
     ]
    },
    {
     "name": "stdin",
     "output_type": "stream",
     "text": [
      "Enter choice (1-4):  3\n"
     ]
    },
    {
     "name": "stdout",
     "output_type": "stream",
     "text": [
      "\n",
      " 0 | 1 | 2\n",
      "-----------\n",
      " 3 | 4 | 5\n",
      "-----------\n",
      " 6 | 7 | 8\n",
      "\n",
      "\n",
      " 0 | 1 | 2\n",
      "-----------\n",
      " 3 | X | 5\n",
      "-----------\n",
      " 6 | 7 | 8\n",
      "\n",
      "\n",
      " O | 1 | 2\n",
      "-----------\n",
      " 3 | X | 5\n",
      "-----------\n",
      " 6 | 7 | 8\n",
      "\n",
      "\n",
      " O | 1 | 2\n",
      "-----------\n",
      " 3 | X | 5\n",
      "-----------\n",
      " 6 | 7 | X\n",
      "\n",
      "\n",
      " O | 1 | O\n",
      "-----------\n",
      " 3 | X | 5\n",
      "-----------\n",
      " 6 | 7 | X\n",
      "\n",
      "\n",
      " O | 1 | O\n",
      "-----------\n",
      " 3 | X | 5\n",
      "-----------\n",
      " X | 7 | X\n",
      "\n",
      "\n",
      " O | O | O\n",
      "-----------\n",
      " 3 | X | 5\n",
      "-----------\n",
      " X | 7 | X\n",
      "\n",
      "AI (O) wins!\n"
     ]
    }
   ],
   "source": [
    "def play_game():\n",
    "    print(\"Select mode:\")\n",
    "    print(\"1. Player vs Player\")\n",
    "    print(\"2. Player vs AI\")\n",
    "    print(\"3. AI vs AI\")\n",
    "    mode = int(input(\"Enter mode: \"))\n",
    "\n",
    "    if mode == 1:\n",
    "        pvp_mode()\n",
    "    elif mode == 2:\n",
    "        pvai_mode()\n",
    "    elif mode == 3:\n",
    "        aivai_mode()\n",
    "\n",
    "# Run this cell to start the game\n",
    "play_game()"
   ]
  },
  {
   "cell_type": "code",
   "execution_count": null,
   "id": "f2cda498-e188-4186-a301-0bed552a3b0f",
   "metadata": {},
   "outputs": [],
   "source": []
  }
 ],
 "metadata": {
  "kernelspec": {
   "display_name": "Python [conda env:base] *",
   "language": "python",
   "name": "conda-base-py"
  },
  "language_info": {
   "codemirror_mode": {
    "name": "ipython",
    "version": 3
   },
   "file_extension": ".py",
   "mimetype": "text/x-python",
   "name": "python",
   "nbconvert_exporter": "python",
   "pygments_lexer": "ipython3",
   "version": "3.12.7"
  }
 },
 "nbformat": 4,
 "nbformat_minor": 5
}
